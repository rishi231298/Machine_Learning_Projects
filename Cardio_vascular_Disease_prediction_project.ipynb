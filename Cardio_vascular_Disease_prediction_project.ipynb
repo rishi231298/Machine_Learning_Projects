{
 "cells": [
  {
   "cell_type": "markdown",
   "id": "21eba1e8",
   "metadata": {},
   "source": [
    "# Cardio Vascular disease analysis prediction significance"
   ]
  },
  {
   "cell_type": "code",
   "execution_count": 3,
   "id": "3cc02634",
   "metadata": {},
   "outputs": [],
   "source": [
    "\n",
    "import os\n",
    "import numpy as np \n",
    "import pandas as pd \n",
    "import matplotlib.pyplot as plt\n",
    "import seaborn as sns\n",
    "\n",
    "%matplotlib inline\n",
    "import warnings\n",
    "warnings.filterwarnings(\"ignore\")\n",
    "\n",
    "\n",
    "\n"
   ]
  },
  {
   "cell_type": "code",
   "execution_count": 4,
   "id": "a51fad49",
   "metadata": {},
   "outputs": [
    {
     "data": {
      "text/plain": [
       "'C:\\\\Users\\\\HP'"
      ]
     },
     "execution_count": 4,
     "metadata": {},
     "output_type": "execute_result"
    }
   ],
   "source": [
    "os.getcwd()\n"
   ]
  },
  {
   "cell_type": "code",
   "execution_count": 7,
   "id": "893394d2",
   "metadata": {},
   "outputs": [],
   "source": [
    "df=pd.read_csv(\"Cardio_vascular.csv\")"
   ]
  },
  {
   "cell_type": "code",
   "execution_count": 9,
   "id": "15163729",
   "metadata": {},
   "outputs": [
    {
     "data": {
      "text/html": [
       "<div>\n",
       "<style scoped>\n",
       "    .dataframe tbody tr th:only-of-type {\n",
       "        vertical-align: middle;\n",
       "    }\n",
       "\n",
       "    .dataframe tbody tr th {\n",
       "        vertical-align: top;\n",
       "    }\n",
       "\n",
       "    .dataframe thead th {\n",
       "        text-align: right;\n",
       "    }\n",
       "</style>\n",
       "<table border=\"1\" class=\"dataframe\">\n",
       "  <thead>\n",
       "    <tr style=\"text-align: right;\">\n",
       "      <th></th>\n",
       "      <th>age</th>\n",
       "      <th>sex</th>\n",
       "      <th>cp</th>\n",
       "      <th>trestbps</th>\n",
       "      <th>chol</th>\n",
       "      <th>fbs</th>\n",
       "      <th>restecg</th>\n",
       "      <th>thalach</th>\n",
       "      <th>exang</th>\n",
       "      <th>oldpeak</th>\n",
       "      <th>slope</th>\n",
       "      <th>ca</th>\n",
       "      <th>thal</th>\n",
       "      <th>target</th>\n",
       "    </tr>\n",
       "  </thead>\n",
       "  <tbody>\n",
       "    <tr>\n",
       "      <th>0</th>\n",
       "      <td>52</td>\n",
       "      <td>1</td>\n",
       "      <td>0</td>\n",
       "      <td>125</td>\n",
       "      <td>212</td>\n",
       "      <td>0</td>\n",
       "      <td>1</td>\n",
       "      <td>168</td>\n",
       "      <td>0</td>\n",
       "      <td>1.0</td>\n",
       "      <td>2</td>\n",
       "      <td>2</td>\n",
       "      <td>3</td>\n",
       "      <td>0</td>\n",
       "    </tr>\n",
       "    <tr>\n",
       "      <th>1</th>\n",
       "      <td>53</td>\n",
       "      <td>1</td>\n",
       "      <td>0</td>\n",
       "      <td>140</td>\n",
       "      <td>203</td>\n",
       "      <td>1</td>\n",
       "      <td>0</td>\n",
       "      <td>155</td>\n",
       "      <td>1</td>\n",
       "      <td>3.1</td>\n",
       "      <td>0</td>\n",
       "      <td>0</td>\n",
       "      <td>3</td>\n",
       "      <td>0</td>\n",
       "    </tr>\n",
       "    <tr>\n",
       "      <th>2</th>\n",
       "      <td>70</td>\n",
       "      <td>1</td>\n",
       "      <td>0</td>\n",
       "      <td>145</td>\n",
       "      <td>174</td>\n",
       "      <td>0</td>\n",
       "      <td>1</td>\n",
       "      <td>125</td>\n",
       "      <td>1</td>\n",
       "      <td>2.6</td>\n",
       "      <td>0</td>\n",
       "      <td>0</td>\n",
       "      <td>3</td>\n",
       "      <td>0</td>\n",
       "    </tr>\n",
       "    <tr>\n",
       "      <th>3</th>\n",
       "      <td>61</td>\n",
       "      <td>1</td>\n",
       "      <td>0</td>\n",
       "      <td>148</td>\n",
       "      <td>203</td>\n",
       "      <td>0</td>\n",
       "      <td>1</td>\n",
       "      <td>161</td>\n",
       "      <td>0</td>\n",
       "      <td>0.0</td>\n",
       "      <td>2</td>\n",
       "      <td>1</td>\n",
       "      <td>3</td>\n",
       "      <td>0</td>\n",
       "    </tr>\n",
       "    <tr>\n",
       "      <th>4</th>\n",
       "      <td>62</td>\n",
       "      <td>0</td>\n",
       "      <td>0</td>\n",
       "      <td>138</td>\n",
       "      <td>294</td>\n",
       "      <td>1</td>\n",
       "      <td>1</td>\n",
       "      <td>106</td>\n",
       "      <td>0</td>\n",
       "      <td>1.9</td>\n",
       "      <td>1</td>\n",
       "      <td>3</td>\n",
       "      <td>2</td>\n",
       "      <td>0</td>\n",
       "    </tr>\n",
       "  </tbody>\n",
       "</table>\n",
       "</div>"
      ],
      "text/plain": [
       "   age  sex  cp  trestbps  chol  fbs  restecg  thalach  exang  oldpeak  slope  \\\n",
       "0   52    1   0       125   212    0        1      168      0      1.0      2   \n",
       "1   53    1   0       140   203    1        0      155      1      3.1      0   \n",
       "2   70    1   0       145   174    0        1      125      1      2.6      0   \n",
       "3   61    1   0       148   203    0        1      161      0      0.0      2   \n",
       "4   62    0   0       138   294    1        1      106      0      1.9      1   \n",
       "\n",
       "   ca  thal  target  \n",
       "0   2     3       0  \n",
       "1   0     3       0  \n",
       "2   0     3       0  \n",
       "3   1     3       0  \n",
       "4   3     2       0  "
      ]
     },
     "execution_count": 9,
     "metadata": {},
     "output_type": "execute_result"
    }
   ],
   "source": [
    "df.head()"
   ]
  },
  {
   "cell_type": "code",
   "execution_count": null,
   "id": "ac91d38a",
   "metadata": {},
   "outputs": [],
   "source": [
    "df.shape"
   ]
  },
  {
   "cell_type": "code",
   "execution_count": null,
   "id": "93beb369",
   "metadata": {},
   "outputs": [],
   "source": []
  },
  {
   "cell_type": "markdown",
   "id": "14a69b95",
   "metadata": {},
   "source": [
    "#### The dataset used in this article is the Cleveland Heart Disease dataset. There are 14 columns in the dataset, \n",
    "which are described below.\n",
    "1. Age, in years\n",
    "2. Sex, 1 = male; 0 = female\n",
    "3. cp: chest pain type\n",
    "– Value 0: typical angina\n",
    "– Value 1: atypical angina\n",
    "– Value 2: non-anginal pain\n",
    "– Value 3: asymptomatic\n",
    "4. trestbps: resting blood pressure (in mm Hg on admission to the hospital)\n",
    "5. chol: serum cholestoral in mg/dAttribute Information:\n",
    "6. fbs: (fasting blood sugar > 120 mg/dl) 1 = true; 0 =false\n",
    "7. restecg: resting electrocardiographic results\n",
    "– Value 0: normal\n",
    "– Value 1: having ST-T wave abnormality (T wave inversions and/or ST elevation or depression of >0.05 mV)\n",
    "– Value 2: showing probable or definite left ventricu lar hypertrophy by Estes’ criteria\n",
    "8. thalach: maximum heart rate achieved during stress TEST\n",
    "9. exang: exercise induced angina, 1 = yes; 0 = no\n",
    "10. oldpeak = ST depression induced by exercise relative to rest\n",
    "11. slope: the slope of the peak exercise ST segment\n",
    "– Value 0: upsloping\n",
    "– Value 1: flat\n",
    "– Value 2: downsloping\n",
    "12. ca: number of major vessels (0-4) colored by flourosopy\n",
    "13. thal: thalassmia, 0 = null; 1=normal; 2 = fixed defect; 3 = reversible defect\n",
    "14. condition (target) : 0 = no disease, 1 = disease\n"
   ]
  },
  {
   "cell_type": "code",
   "execution_count": null,
   "id": "4770213f",
   "metadata": {},
   "outputs": [],
   "source": [
    "df.rename(columns={\"sex\":\"gender\",\"cp\":\"rest_cp\",\"trestbps\":\"rest_bp\",\"chol\":\"cholesterol\",\"fbs\":\"fast_bloodsugar\",\n",
    "                   \"restecg\":\"rest_ecg\",\"thalach\":\"stress_HR\",\"exang\":\"Exercise_cp\",\"oldpeak\":\"STdepression_Exerc\",\n",
    "                   \"slope\":\"STpeak_exerc\",\"ca\":\"coloured_vessels\",\"thal\":\"thalassmia\",\"target\":\"heart_disease\"},inplace=True)"
   ]
  },
  {
   "cell_type": "code",
   "execution_count": null,
   "id": "f75fd634",
   "metadata": {},
   "outputs": [],
   "source": [
    "df.info()\n"
   ]
  },
  {
   "cell_type": "code",
   "execution_count": null,
   "id": "9dacfaca",
   "metadata": {},
   "outputs": [],
   "source": [
    "df.describe()"
   ]
  },
  {
   "cell_type": "code",
   "execution_count": null,
   "id": "c356cb1a",
   "metadata": {},
   "outputs": [],
   "source": [
    "df.nunique()"
   ]
  },
  {
   "cell_type": "code",
   "execution_count": null,
   "id": "27f15d05",
   "metadata": {},
   "outputs": [],
   "source": []
  },
  {
   "cell_type": "code",
   "execution_count": null,
   "id": "96f6f726",
   "metadata": {},
   "outputs": [],
   "source": [
    "skewness1=df.skew()\n"
   ]
  },
  {
   "cell_type": "code",
   "execution_count": null,
   "id": "2c76bb5a",
   "metadata": {},
   "outputs": [],
   "source": [
    "skewness1"
   ]
  },
  {
   "cell_type": "code",
   "execution_count": null,
   "id": "cd067277",
   "metadata": {},
   "outputs": [],
   "source": [
    "kurtosis1=df.kurt()\n",
    "kurtosis1"
   ]
  },
  {
   "cell_type": "code",
   "execution_count": null,
   "id": "9e7cff5b",
   "metadata": {},
   "outputs": [],
   "source": [
    "df.heart_disease.value_counts()"
   ]
  },
  {
   "cell_type": "code",
   "execution_count": null,
   "id": "ff7bea7e",
   "metadata": {},
   "outputs": [],
   "source": [
    "sns.countplot(x=\"heart_disease\", data=df)"
   ]
  },
  {
   "cell_type": "code",
   "execution_count": null,
   "id": "a2cfb646",
   "metadata": {},
   "outputs": [],
   "source": [
    "df[\"rest_cp\"].value_counts()"
   ]
  },
  {
   "cell_type": "code",
   "execution_count": null,
   "id": "bcc10725",
   "metadata": {},
   "outputs": [],
   "source": [
    "df[\"fast_bloodsugar\"].value_counts()"
   ]
  },
  {
   "cell_type": "code",
   "execution_count": null,
   "id": "a81ce5f5",
   "metadata": {},
   "outputs": [],
   "source": [
    "df[\"rest_ecg\"].value_counts()"
   ]
  },
  {
   "cell_type": "code",
   "execution_count": null,
   "id": "3022eea2",
   "metadata": {},
   "outputs": [],
   "source": [
    "df[\"Exercise_cp\"].value_counts()"
   ]
  },
  {
   "cell_type": "code",
   "execution_count": null,
   "id": "cdacf481",
   "metadata": {},
   "outputs": [],
   "source": [
    "df[\"STpeak_exerc\"].value_counts()"
   ]
  },
  {
   "cell_type": "code",
   "execution_count": null,
   "id": "3d135335",
   "metadata": {},
   "outputs": [],
   "source": [
    "df[\"coloured_vessels\"].value_counts()"
   ]
  },
  {
   "cell_type": "code",
   "execution_count": null,
   "id": "219114c2",
   "metadata": {},
   "outputs": [],
   "source": [
    "df[\"thalassmia\"].value_counts()"
   ]
  },
  {
   "cell_type": "code",
   "execution_count": null,
   "id": "3935610e",
   "metadata": {},
   "outputs": [],
   "source": [
    "# DELETING THE ROWS WHERE thalassmia==0\n",
    "\n",
    "df = df[(df['thalassmia'] > 0)]"
   ]
  },
  {
   "cell_type": "code",
   "execution_count": null,
   "id": "da405c99",
   "metadata": {},
   "outputs": [],
   "source": [
    "df[\"thalassmia\"].value_counts()"
   ]
  },
  {
   "cell_type": "code",
   "execution_count": null,
   "id": "6a7e9fb8",
   "metadata": {},
   "outputs": [],
   "source": [
    "df.describe()"
   ]
  },
  {
   "cell_type": "code",
   "execution_count": null,
   "id": "f7fb3344",
   "metadata": {},
   "outputs": [],
   "source": [
    "df[\"cholesterol\"].value_counts()"
   ]
  },
  {
   "cell_type": "code",
   "execution_count": null,
   "id": "b14a7a41",
   "metadata": {},
   "outputs": [],
   "source": [
    "gender_count=sns.countplot(x=\"gender\", data=df,hue=\"heart_disease\")\n",
    "gender_count.set(xlabel=\"gender of patients\")"
   ]
  },
  {
   "cell_type": "code",
   "execution_count": null,
   "id": "68439f3d",
   "metadata": {},
   "outputs": [],
   "source": [
    "ax = sns.barplot(x=\"gender\", y=\"heart_disease\", data=df,hue=\"heart_disease\", estimator=lambda x: len(x) / len(df) * 100)\n",
    "ax.set(ylabel=\"Percent\")"
   ]
  },
  {
   "cell_type": "code",
   "execution_count": null,
   "id": "69746caf",
   "metadata": {},
   "outputs": [],
   "source": [
    "sns.countplot(x=\"rest_cp\", data=df)"
   ]
  },
  {
   "cell_type": "code",
   "execution_count": null,
   "id": "9d1b67a9",
   "metadata": {},
   "outputs": [],
   "source": [
    "ax = sns.barplot(x=\"heart_disease\", y=\"rest_cp\", data=df,hue=\"rest_cp\", estimator=lambda x: len(x) / len(df) * 100)\n",
    "ax.set(ylabel=\"Percent\")"
   ]
  },
  {
   "cell_type": "code",
   "execution_count": null,
   "id": "9a0a5b36",
   "metadata": {},
   "outputs": [],
   "source": [
    "ax = sns.barplot(x=\"gender\", y=\"rest_cp\", data=df,hue=\"rest_cp\", estimator=lambda x: len(x) / len(df) * 100)\n",
    "ax.set(ylabel=\"Percent\")"
   ]
  },
  {
   "cell_type": "code",
   "execution_count": null,
   "id": "6f9bab48",
   "metadata": {},
   "outputs": [],
   "source": [
    "df[\"gender\"].value_counts()"
   ]
  },
  {
   "cell_type": "code",
   "execution_count": null,
   "id": "6d1d599a",
   "metadata": {},
   "outputs": [],
   "source": [
    "sns.histplot(data=df,x=\"age\",hue=\"heart_disease\",bins=20,kde=True)\n",
    "plt.show()"
   ]
  },
  {
   "cell_type": "code",
   "execution_count": null,
   "id": "98b5bef8",
   "metadata": {},
   "outputs": [],
   "source": [
    "sns.countplot(data= df, x='heart_disease',hue='thalassmia')\n",
    "plt.title('thal Type v/s target\\n')"
   ]
  },
  {
   "cell_type": "code",
   "execution_count": null,
   "id": "f74a1315",
   "metadata": {},
   "outputs": [],
   "source": [
    "# condition (target) : 0 = no disease, 1 = disease\n"
   ]
  },
  {
   "cell_type": "code",
   "execution_count": null,
   "id": "a3de4227",
   "metadata": {},
   "outputs": [],
   "source": [
    "sns.countplot(data= df, x='gender',hue='thalassmia')\n",
    "plt.title('Gender v/s Thalassemia\\n')\n",
    "print('Thalassemia (thal-uh-SEE-me-uh) is an inherited blood disorder that causes your body to have less hemoglobin than normal. Hemoglobin enables red blood cells to carry oxygen')"
   ]
  },
  {
   "cell_type": "code",
   "execution_count": null,
   "id": "d4a0e8be",
   "metadata": {},
   "outputs": [],
   "source": [
    "sns.boxplot(data=df,x='heart_disease',y='age')"
   ]
  },
  {
   "cell_type": "code",
   "execution_count": null,
   "id": "c30ea872",
   "metadata": {},
   "outputs": [],
   "source": [
    "df.isnull().sum()"
   ]
  },
  {
   "cell_type": "code",
   "execution_count": null,
   "id": "114ed833",
   "metadata": {},
   "outputs": [],
   "source": [
    "df.heart_disease.value_counts()\n"
   ]
  },
  {
   "cell_type": "code",
   "execution_count": null,
   "id": "a2f0d3e0",
   "metadata": {},
   "outputs": [],
   "source": [
    "df.nunique()"
   ]
  },
  {
   "cell_type": "code",
   "execution_count": null,
   "id": "3f860128",
   "metadata": {},
   "outputs": [],
   "source": [
    "df.info()"
   ]
  },
  {
   "cell_type": "markdown",
   "id": "dbc6f8e4",
   "metadata": {},
   "source": [
    "# NEXT STEP TO DO THE PREPROCESSING EDA PART "
   ]
  },
  {
   "cell_type": "markdown",
   "id": "e324d0be",
   "metadata": {},
   "source": [
    "# OUTLIER TRETMENT  "
   ]
  },
  {
   "cell_type": "code",
   "execution_count": null,
   "id": "316fb513",
   "metadata": {},
   "outputs": [],
   "source": [
    "# checking outliners in boxplot\n",
    "\n",
    "plt.figure(figsize=(15,12)) # Set plot dimensions\n",
    "sns.boxplot(data=df)"
   ]
  },
  {
   "cell_type": "code",
   "execution_count": null,
   "id": "40f32f45",
   "metadata": {},
   "outputs": [],
   "source": [
    "plt.figure(figsize=(5,5)) # Set plot dimensions\n",
    "sns.boxplot(x=\"rest_bp\",data=df)"
   ]
  },
  {
   "cell_type": "code",
   "execution_count": null,
   "id": "72e08f21",
   "metadata": {},
   "outputs": [],
   "source": [
    "plt.figure(figsize=(5,5)) # Set plot dimensions\n",
    "sns.boxplot(x=\"cholesterol\",data=df)"
   ]
  },
  {
   "cell_type": "code",
   "execution_count": null,
   "id": "2cae3a43",
   "metadata": {},
   "outputs": [],
   "source": [
    "plt.figure(figsize=(5,5)) # Set plot dimensions\n",
    "sns.boxplot(x=\"stress_HR\",data=df)"
   ]
  },
  {
   "cell_type": "markdown",
   "id": "4ba2d8b3",
   "metadata": {},
   "source": [
    "# Flooring Capping option - adjustment of outlier- no delete, IQR method"
   ]
  },
  {
   "cell_type": "code",
   "execution_count": null,
   "id": "5cf74cdc",
   "metadata": {},
   "outputs": [],
   "source": [
    "Q1_rest_bp=df[\"rest_bp\"].quantile(0.25)\n",
    "\n",
    "Q3_rest_bp=df[\"rest_bp\"].quantile(0.75)\n",
    "IQR1=Q3_rest_bp-Q1_rest_bp\n",
    "upper_limit_rest_bp=(Q3_rest_bp+1.5*IQR1)\n",
    "print(\"upper_limit_rest_bp\",upper_limit_rest_bp)\n",
    "lower_limit_rest_bp=(Q1_rest_bp-1.5*IQR1)\n",
    "print(\"lower_limit_rest_bp\",lower_limit_rest_bp)"
   ]
  },
  {
   "cell_type": "code",
   "execution_count": null,
   "id": "9ee6f236",
   "metadata": {},
   "outputs": [],
   "source": [
    "Q1_cholesterol=df[\"cholesterol\"].quantile(0.25)\n",
    "\n",
    "Q3_cholesterol=df[\"cholesterol\"].quantile(0.75)\n",
    "IQR2=Q3_cholesterol-Q1_cholesterol\n",
    "upper_limit_cholesterol=(Q3_cholesterol+1.5*IQR2)\n",
    "print(\"upper_limit_cholesterol\",upper_limit_cholesterol)\n",
    "lower_limit_cholesterol=(Q1_cholesterol-1.5*IQR2)\n",
    "print(\"lower_limit_cholesterol\",lower_limit_cholesterol)"
   ]
  },
  {
   "cell_type": "code",
   "execution_count": null,
   "id": "d4dcf529",
   "metadata": {},
   "outputs": [],
   "source": [
    "Q1_stress_HR=df[\"stress_HR\"].quantile(0.25)\n",
    "\n",
    "Q3_stress_HR=df[\"stress_HR\"].quantile(0.75)\n",
    "IQR3=Q3_stress_HR-Q1_stress_HR\n",
    "upper_limit_stress_HR=(Q3_stress_HR+1.5*IQR3)\n",
    "print(\"upper_limit_stress_HR\",upper_limit_stress_HR)\n",
    "lower_limit_stress_HR=(Q1_stress_HR-1.5*IQR3)\n",
    "print(\"lower_limit_stress_HR\",lower_limit_stress_HR)"
   ]
  },
  {
   "cell_type": "code",
   "execution_count": null,
   "id": "52ab6f94",
   "metadata": {},
   "outputs": [],
   "source": [
    "df['rest_bp']=np.where(df['rest_bp']>upper_limit_rest_bp,upper_limit_rest_bp,np.where(df['rest_bp']<lower_limit_rest_bp,lower_limit_rest_bp,df['rest_bp']))"
   ]
  },
  {
   "cell_type": "code",
   "execution_count": null,
   "id": "5670330d",
   "metadata": {},
   "outputs": [],
   "source": [
    "df['cholesterol']=np.where(df['cholesterol']>upper_limit_cholesterol,upper_limit_cholesterol,np.where(df['cholesterol']<lower_limit_cholesterol,lower_limit_cholesterol,df['cholesterol']))"
   ]
  },
  {
   "cell_type": "code",
   "execution_count": null,
   "id": "847799e3",
   "metadata": {},
   "outputs": [],
   "source": [
    "df['stress_HR']=np.where(df['stress_HR']>upper_limit_stress_HR,upper_limit_stress_HR,np.where(df['stress_HR']<lower_limit_stress_HR,lower_limit_stress_HR,df['stress_HR']))"
   ]
  },
  {
   "cell_type": "code",
   "execution_count": null,
   "id": "20f06c7d",
   "metadata": {},
   "outputs": [],
   "source": [
    "plt.figure(figsize=(15,12)) # Set plot dimensions\n",
    "sns.boxplot(data=df)"
   ]
  },
  {
   "cell_type": "code",
   "execution_count": null,
   "id": "ccde2a18",
   "metadata": {},
   "outputs": [],
   "source": [
    "df.info()"
   ]
  },
  {
   "cell_type": "code",
   "execution_count": null,
   "id": "4052462d",
   "metadata": {},
   "outputs": [],
   "source": [
    "# No ROW DELETED , adjusted the outliers."
   ]
  },
  {
   "cell_type": "code",
   "execution_count": null,
   "id": "9ec93c15",
   "metadata": {},
   "outputs": [],
   "source": []
  },
  {
   "cell_type": "code",
   "execution_count": null,
   "id": "5bd5b3b0",
   "metadata": {},
   "outputs": [],
   "source": [
    "\n"
   ]
  },
  {
   "cell_type": "code",
   "execution_count": null,
   "id": "90196998",
   "metadata": {},
   "outputs": [],
   "source": [
    "X=df.drop([\"heart_disease\"],axis=1)\n",
    "Y=df[\"heart_disease\"]"
   ]
  },
  {
   "cell_type": "code",
   "execution_count": null,
   "id": "df264355",
   "metadata": {},
   "outputs": [],
   "source": [
    "from sklearn.feature_selection import SelectKBest\n",
    "from sklearn.feature_selection import chi2"
   ]
  },
  {
   "cell_type": "code",
   "execution_count": null,
   "id": "0d27592b",
   "metadata": {},
   "outputs": [],
   "source": [
    "#apply SelectKBest class to extract top best features\n",
    "bestfeatures = SelectKBest(score_func=chi2, k=13)\n",
    "fit = bestfeatures.fit(X,Y)\n",
    "dfscores = pd.DataFrame(fit.scores_)\n",
    "dfcolumns = pd.DataFrame(X.columns)\n",
    "#concat two dataframes for better visualization\n",
    "featureScores = pd.concat([dfcolumns,dfscores],axis=1)\n",
    "featureScores.columns = ['Features','Score'] #naming the dataframe columns\n",
    "print(featureScores.nlargest(12,'Score')) #print best features\n"
   ]
  },
  {
   "cell_type": "code",
   "execution_count": null,
   "id": "aaeeb9b1",
   "metadata": {},
   "outputs": [],
   "source": [
    "X.describe()"
   ]
  },
  {
   "cell_type": "markdown",
   "id": "dbee4808",
   "metadata": {},
   "source": [
    "# multicollinearity problems"
   ]
  },
  {
   "cell_type": "code",
   "execution_count": null,
   "id": "30a9ae29",
   "metadata": {},
   "outputs": [],
   "source": [
    "X.corr() # it how independent variables are collinear to each other"
   ]
  },
  {
   "cell_type": "code",
   "execution_count": null,
   "id": "a6ec20b1",
   "metadata": {},
   "outputs": [],
   "source": [
    "df.corr()"
   ]
  },
  {
   "cell_type": "code",
   "execution_count": null,
   "id": "68c96419",
   "metadata": {},
   "outputs": [],
   "source": [
    "#Same data we can plot in heatmap for more better understanding.\n",
    "plt.figure(figsize=(15,12))\n",
    "sns.heatmap(df.corr(),annot=True)"
   ]
  },
  {
   "cell_type": "code",
   "execution_count": null,
   "id": "857c1dfd",
   "metadata": {},
   "outputs": [],
   "source": [
    "# although there is no Multicolliniearilty ,if a value more than 0.8 ( specific to Medical and clinical sector data it consider as multicollinearity)."
   ]
  },
  {
   "cell_type": "code",
   "execution_count": null,
   "id": "e3c0b552",
   "metadata": {},
   "outputs": [],
   "source": [
    "#SPLITTING THE DATA IN TRAINING AND TEST\n",
    "\n",
    "from sklearn.model_selection import train_test_split\n"
   ]
  },
  {
   "cell_type": "code",
   "execution_count": null,
   "id": "619b4a85",
   "metadata": {},
   "outputs": [],
   "source": [
    "print(X.shape)\n",
    "print(Y.shape)"
   ]
  },
  {
   "cell_type": "code",
   "execution_count": null,
   "id": "cadd95da",
   "metadata": {},
   "outputs": [],
   "source": []
  },
  {
   "cell_type": "code",
   "execution_count": null,
   "id": "d8f7764f",
   "metadata": {},
   "outputs": [],
   "source": []
  },
  {
   "cell_type": "code",
   "execution_count": null,
   "id": "37733fe1",
   "metadata": {},
   "outputs": [],
   "source": [
    "#splitting data in traing and test\n",
    "X_train1, X_test1,Y_train1,Y_test1=train_test_split(X,Y,train_size=0.70,random_state=101)\n",
    "print(X_train1.shape)\n",
    "print(X_test1.shape)\n",
    "print(Y_train1.shape)\n",
    "print(Y_test1.shape)"
   ]
  },
  {
   "cell_type": "code",
   "execution_count": null,
   "id": "2ca4dd27",
   "metadata": {},
   "outputs": [],
   "source": []
  },
  {
   "cell_type": "code",
   "execution_count": null,
   "id": "f7fc54dd",
   "metadata": {},
   "outputs": [],
   "source": []
  },
  {
   "cell_type": "code",
   "execution_count": null,
   "id": "b217c6ef",
   "metadata": {},
   "outputs": [],
   "source": []
  },
  {
   "cell_type": "code",
   "execution_count": null,
   "id": "3b4b83d5",
   "metadata": {},
   "outputs": [],
   "source": [
    "from sklearn.preprocessing import StandardScaler\n",
    "scaljob=StandardScaler()\n",
    "X_train1=scaljob.fit_transform(X_train1)\n",
    "X_test1=scaljob.fit_transform(X_test1)\n",
    "X_train1\n",
    "X_test1"
   ]
  },
  {
   "cell_type": "markdown",
   "id": "5877c058",
   "metadata": {},
   "source": [
    "# To study this data set we implemented various models, applying the models"
   ]
  },
  {
   "cell_type": "markdown",
   "id": "42fd0a7f",
   "metadata": {},
   "source": [
    "# Buidling KNN MODEL"
   ]
  },
  {
   "cell_type": "code",
   "execution_count": null,
   "id": "9785f2fa",
   "metadata": {},
   "outputs": [],
   "source": [
    "\n",
    "\n",
    "from sklearn .metrics import classification_report,confusion_matrix,accuracy_score"
   ]
  },
  {
   "cell_type": "code",
   "execution_count": null,
   "id": "17362cc7",
   "metadata": {},
   "outputs": [],
   "source": [
    "#WORKING WITH SCALLED DATASET"
   ]
  },
  {
   "cell_type": "code",
   "execution_count": null,
   "id": "89e77009",
   "metadata": {},
   "outputs": [],
   "source": [
    "from sklearn.neighbors import KNeighborsClassifier\n",
    "knn_S_5=KNeighborsClassifier(n_neighbors=5) \n",
    "knn_S_5.fit(X_train1,Y_train1)\n",
    "\n",
    "\n",
    "Y_pred_KNN_train1=knn_S_5.predict(X_train1)\n",
    "Y_pred_KNN_test1=knn_S_5.predict(X_test1)"
   ]
  },
  {
   "cell_type": "code",
   "execution_count": null,
   "id": "ad7c2b1f",
   "metadata": {},
   "outputs": [],
   "source": [
    "print(\"KNN training accuracy\", accuracy_score(Y_train1,Y_pred_KNN_train1))\n",
    "print(\"######\"*5)\n",
    "print(\"KNN testing accuracy\", accuracy_score(Y_test1,Y_pred_KNN_test1))"
   ]
  },
  {
   "cell_type": "markdown",
   "id": "c94c046c",
   "metadata": {},
   "source": [
    "# overfitting underfitting"
   ]
  },
  {
   "cell_type": "code",
   "execution_count": null,
   "id": "9cb68f09",
   "metadata": {},
   "outputs": [],
   "source": [
    "from sklearn.metrics import classification_report,confusion_matrix,accuracy_score"
   ]
  },
  {
   "cell_type": "code",
   "execution_count": null,
   "id": "86403410",
   "metadata": {},
   "outputs": [],
   "source": [
    "# find the more effective value of n_neighbors parameter:\n",
    "accuracy_K = []\n",
    "for k in range(1, 50):\n",
    "    knn = KNeighborsClassifier(n_neighbors=k)\n",
    "    knn.fit(X_train1, Y_train1)\n",
    "    Y_pred = knn.predict(X_test1)\n",
    "    accuracy =accuracy_score(Y_test1, Y_pred)\n",
    "    accuracy_K.append(accuracy)\n",
    "   \n",
    "plt.figure(figsize=(12,8))\n",
    "plt.xlabel(\"k values\")\n",
    "plt.ylabel(\"ACCURACY\")\n",
    "plt.plot(range(1,50),accuracy_K, marker='o', markersize=9)"
   ]
  },
  {
   "cell_type": "code",
   "execution_count": null,
   "id": "6a25c78a",
   "metadata": {},
   "outputs": [],
   "source": [
    "# we can try different k values 5 or 7\n",
    "knn_S_25=KNeighborsClassifier(n_neighbors=5) \n",
    "knn_S_25.fit(X_train1,Y_train1)\n",
    "\n",
    "\n",
    "Y_pred_KNN_train1=knn_S_25.predict(X_train1)\n",
    "Y_pred_KNN_test1=knn_S_25.predict(X_test1)"
   ]
  },
  {
   "cell_type": "code",
   "execution_count": null,
   "id": "e13167ba",
   "metadata": {},
   "outputs": [],
   "source": [
    "print(\"KNN training accuracy\", accuracy_score(Y_train1,Y_pred_KNN_train1))\n",
    "print(\"######\"*5)\n",
    "print(\"KNN testing accuracy\", accuracy_score(Y_test1,Y_pred_KNN_test1))"
   ]
  },
  {
   "cell_type": "markdown",
   "id": "b514b77c",
   "metadata": {},
   "source": [
    "# CROSS VALIDATION CV"
   ]
  },
  {
   "cell_type": "code",
   "execution_count": null,
   "id": "5c18d5fb",
   "metadata": {},
   "outputs": [],
   "source": [
    "from sklearn.model_selection import cross_val_score"
   ]
  },
  {
   "cell_type": "code",
   "execution_count": null,
   "id": "0655a4d8",
   "metadata": {},
   "outputs": [],
   "source": [
    "accuracy_training=cross_val_score(knn_S_25,X_train1,Y_train1,cv=20)\n",
    "accuracy_testing=cross_val_score(knn_S_25,X_test1,Y_test1,cv=15)\n",
    "print(accuracy_training)\n",
    "#print(accuracy_testing)"
   ]
  },
  {
   "cell_type": "code",
   "execution_count": null,
   "id": "0c879c0c",
   "metadata": {},
   "outputs": [],
   "source": [
    "print(\"accuracy training\",accuracy_training[1] )\n",
    "print(\"accuracy testing\",accuracy_testing[0] )"
   ]
  },
  {
   "cell_type": "code",
   "execution_count": null,
   "id": "a5b9101d",
   "metadata": {},
   "outputs": [],
   "source": [
    "\n",
    "\n",
    "\n",
    "from sklearn.metrics import classification_report,confusion_matrix,accuracy_score\n",
    "knn_conf_mat=confusion_matrix(Y_test1,Y_pred_KNN_test1)\n",
    "\n",
    "print(confusion_matrix(Y_test1,Y_pred_KNN_test1))\n",
    "\n",
    "\n",
    "\n",
    "\n"
   ]
  },
  {
   "cell_type": "code",
   "execution_count": null,
   "id": "d3556b64",
   "metadata": {},
   "outputs": [],
   "source": [
    "print(knn_conf_mat)"
   ]
  },
  {
   "cell_type": "code",
   "execution_count": null,
   "id": "ef7ddbeb",
   "metadata": {},
   "outputs": [],
   "source": [
    "TP = knn_conf_mat[0][0]\n",
    "FP = knn_conf_mat[0][1]\n",
    "FN = knn_conf_mat[1][0]\n",
    "TN = knn_conf_mat[1][1]\n",
    "                  \n",
    "print(\"True positive\",TP)\n",
    "print(\"False positive\",FP)\n",
    "print(\"False Negative\",FN)                  \n",
    "print(\"True Negative\",TN)"
   ]
  },
  {
   "cell_type": "code",
   "execution_count": null,
   "id": "8a807073",
   "metadata": {},
   "outputs": [],
   "source": [
    "#Visualization Confusion Matrix\n",
    "plt.subplots(figsize=(7,7))\n",
    "sns.heatmap(knn_conf_mat,annot=True,linewidths=0.5,linecolor=\"red\",fmt=\".0f\",data=X)\n",
    "plt.xlabel(\"ACUTAL Values\")\n",
    "plt.ylabel(\"PREDICTED Values\")\n",
    "plt.show()"
   ]
  },
  {
   "cell_type": "code",
   "execution_count": null,
   "id": "840aecb9",
   "metadata": {},
   "outputs": [],
   "source": [
    "print(\"## CLASSIFICATION REPORT KNN TRAINING MODEL ######\")\n",
    "print(classification_report(Y_train1,Y_pred_KNN_train1))\n",
    "print(\"## CLASSIFICATION REPORT KNN TESTING MODEL  ######\")\n",
    "print(classification_report(Y_test1,Y_pred_KNN_test1))"
   ]
  },
  {
   "cell_type": "code",
   "execution_count": null,
   "id": "5d7c7afd",
   "metadata": {},
   "outputs": [],
   "source": [
    "print(accuracy_score(Y_test1,Y_pred_KNN_test1))"
   ]
  },
  {
   "cell_type": "markdown",
   "id": "fc0ebeba",
   "metadata": {},
   "source": [
    "# KNN ROC AUC PREDICTION"
   ]
  },
  {
   "cell_type": "code",
   "execution_count": null,
   "id": "1bc83898",
   "metadata": {},
   "outputs": [],
   "source": [
    "Specificity=TN/(TN+FP)\n",
    "Recall = TP/(TP+FN)\n",
    "Balanced_ACCURACY=(Recall +Specificity)/2\n",
    "print(\"Balanced Accuracy\",Balanced_ACCURACY)"
   ]
  },
  {
   "cell_type": "code",
   "execution_count": null,
   "id": "e7f58d1e",
   "metadata": {},
   "outputs": [],
   "source": [
    "from sklearn.metrics import roc_auc_score\n",
    "\n",
    "\n",
    "\n",
    "# predict probabilities\n",
    "probability_prediction_positive = knn.predict_proba(X_test1)[:,1]\n",
    "\n",
    "# auc scores\n",
    "auc_score1 = roc_auc_score(Y_test1, probability_prediction_positive)\n",
    "\n",
    "\n",
    "from sklearn.metrics import roc_curve\n",
    "\n",
    "# roc curve for models\n",
    "fpr1, tpr1, thresh1 = roc_curve(Y_test1, probability_prediction_positive, pos_label=1)\n",
    "\n",
    "\n",
    "\n",
    "\n",
    "print(\"AUC SCORE:\",auc_score1)\n",
    "#print(\"#######\"*5)\n",
    "#print(\"value of FPR\", fpr1)\n",
    "#print(\"#######\"*5)\n",
    "#print(\"Values of TPR\",tpr1)\n",
    "#print(\"#######\"*5)\n",
    "#print(\"values of Threshold\", thresh1)"
   ]
  },
  {
   "cell_type": "code",
   "execution_count": null,
   "id": "d78e08c4",
   "metadata": {},
   "outputs": [],
   "source": [
    "#roc_df = pd.DataFrame(zip(fpr1, tpr1, thresh1),columns = [\"FPR\",\"TPR\",\"Threshold\"])\n",
    "#roc_df\n"
   ]
  },
  {
   "cell_type": "code",
   "execution_count": null,
   "id": "d073076a",
   "metadata": {},
   "outputs": [],
   "source": [
    "# matplotlib\n",
    "import matplotlib.pyplot as plt\n",
    "plt.style.use('seaborn')\n",
    "\n",
    "# plot roc curves\n",
    "plt.plot(fpr1, tpr1, linestyle='--',color='orange', label='KNN')\n",
    "\n",
    "# plot no skill roc curve\n",
    "plt.plot([0, 1], [0, 1], linestyle='--', label='No Skill')\n",
    "\n",
    "# title\n",
    "plt.title('ROC curve')\n",
    "\n",
    "# x label\n",
    "plt.xlabel('False Positive Rate')\n",
    "# y label\n",
    "plt.ylabel('True Positive rate')\n",
    "\n",
    "plt.legend(loc='best')\n",
    "\n",
    "plt.savefig('ROC', dpi=300)\n",
    "plt.show()"
   ]
  },
  {
   "cell_type": "code",
   "execution_count": null,
   "id": "03967908",
   "metadata": {},
   "outputs": [],
   "source": []
  },
  {
   "cell_type": "code",
   "execution_count": null,
   "id": "0ea7802d",
   "metadata": {},
   "outputs": [],
   "source": [
    "#Running knn.predict_proba(X_test)[:,1] get the predicted probabilities of the positive label only, which yield as below:-\n",
    "\n",
    "#probability2= knn.predict_proba(X_test1)[:,1]\n",
    "#probability2"
   ]
  },
  {
   "cell_type": "markdown",
   "id": "04557943",
   "metadata": {},
   "source": [
    "# SVM Support Vector Machine Algorithm"
   ]
  },
  {
   "cell_type": "code",
   "execution_count": null,
   "id": "9f3ff36e",
   "metadata": {},
   "outputs": [],
   "source": [
    "\n",
    "  \n",
    "from sklearn.svm import SVC\n",
    "  \n",
    "# Building a Support Vector Machine on train data\n",
    "svm = SVC(C= .1, kernel='linear', gamma= 1,probability=True)\n",
    "svm.fit(X_train1, Y_train1)\n",
    "Y_pred_SVM_train = svm .predict(X_train1)\n",
    "Y_pred_SVM_test = svm .predict(X_test1)\n",
    "# check the accuracy on the training set\n",
    "print(\"traing accuracy\",svm.score(X_train1, Y_train1))\n",
    "print(\"testing accuracy\",svm.score(X_test1, Y_test1))"
   ]
  },
  {
   "cell_type": "code",
   "execution_count": null,
   "id": "d2b48e06",
   "metadata": {},
   "outputs": [],
   "source": [
    "# confusion matrix\n",
    "SVM_conf_mat=confusion_matrix(Y_test1,Y_pred_SVM_test)\n",
    "print(confusion_matrix(Y_test1,Y_pred_SVM_test))\n",
    "\n",
    "#Visualization Confusion Matrix\n",
    "plt.subplots(figsize=(5,5))\n",
    "sns.heatmap(SVM_conf_mat,annot=True,linewidths=0.5,linecolor=\"red\",fmt=\".0f\",data=X_test1)\n",
    "plt.xlabel(\"ACUTAL Values\")\n",
    "plt.ylabel(\"PREDICTED Values\")\n",
    "plt.show()"
   ]
  },
  {
   "cell_type": "code",
   "execution_count": null,
   "id": "79585185",
   "metadata": {},
   "outputs": [],
   "source": [
    "print(\"## CLASSIFICATION REPORT SVM TRAINING MODEL ######\")\n",
    "print(classification_report(Y_train1,Y_pred_SVM_train))\n",
    "print(\"## CLASSIFICATION REPORT SVM TESTING MODEL  ######\")\n",
    "print(classification_report(Y_test1,Y_pred_SVM_test))"
   ]
  },
  {
   "cell_type": "code",
   "execution_count": null,
   "id": "fa647438",
   "metadata": {},
   "outputs": [],
   "source": [
    "from sklearn.metrics import roc_auc_score\n",
    "\n",
    "\n",
    "\n",
    "# predict probabilities\n",
    "probability_prediction_positive_svm = svm.predict_proba(X_test1)[:,1]\n",
    "\n",
    "# auc scores\n",
    "auc_score_svm = roc_auc_score(Y_test1, probability_prediction_positive_svm)\n",
    "\n",
    "\n",
    "from sklearn.metrics import roc_curve\n",
    "\n",
    "# roc curve for models\n",
    "fpr2, tpr2, thresh2 = roc_curve(Y_test1, probability_prediction_positive_svm, pos_label=1)\n",
    "\n",
    "\n",
    "\n",
    "\n",
    "print(\"AUC SCORE:\",auc_score_svm)\n",
    "#print(\"#######\"*5)\n",
    "#print(\"value of FPR\", fpr1)\n",
    "#print(\"#######\"*5)\n",
    "#print(\"Values of TPR\",tpr1)\n",
    "#print(\"#######\"*5)\n",
    "#print(\"values of Threshold\", thresh1)"
   ]
  },
  {
   "cell_type": "code",
   "execution_count": null,
   "id": "15b11cf2",
   "metadata": {},
   "outputs": [],
   "source": [
    "# matplotlib\n",
    "import matplotlib.pyplot as plt\n",
    "plt.style.use('seaborn')\n",
    "\n",
    "# plot roc curves\n",
    "plt.plot(fpr2, tpr2, linestyle='--',color='orange', label='SVM')\n",
    "\n",
    "# plot no skill roc curve\n",
    "plt.plot([0, 1], [0, 1], linestyle='--', label='No Skill')\n",
    "\n",
    "# title\n",
    "plt.title('ROC curve')\n",
    "\n",
    "# x label\n",
    "plt.xlabel('False Positive Rate')\n",
    "# y label\n",
    "plt.ylabel('True Positive rate')\n",
    "\n",
    "plt.legend(loc='best')\n",
    "\n",
    "plt.savefig('ROC', dpi=300)\n",
    "plt.show()"
   ]
  },
  {
   "cell_type": "markdown",
   "id": "35604b46",
   "metadata": {},
   "source": [
    "# LOGISTIC REGRESSION"
   ]
  },
  {
   "cell_type": "code",
   "execution_count": null,
   "id": "dca33955",
   "metadata": {},
   "outputs": [],
   "source": [
    "from sklearn.linear_model import LogisticRegression\n",
    "lr=LogisticRegression(max_iter=200)# by default max_iter=100. there is no much difference in accuracy changing it.\n",
    "lr.fit(X_train1,Y_train1)"
   ]
  },
  {
   "cell_type": "code",
   "execution_count": null,
   "id": "1b67ec16",
   "metadata": {},
   "outputs": [],
   "source": [
    "Y_pred_lr_train=lr.predict(X_train1)\n",
    "Y_pred_lr_test=lr.predict(X_test1)"
   ]
  },
  {
   "cell_type": "code",
   "execution_count": null,
   "id": "73213582",
   "metadata": {},
   "outputs": [],
   "source": [
    "print(\"LOGISTIC REGRESSION TRAINING ACCURACY \",accuracy_score(Y_train1,Y_pred_lr_train))\n",
    "print(\"######\"*20)\n",
    "print(\"LOGISTIC REGRESSION TESTING ACCURACY \",accuracy_score(Y_test1,Y_pred_lr_test))"
   ]
  },
  {
   "cell_type": "markdown",
   "id": "0006df12",
   "metadata": {},
   "source": [
    "# CONFUSION METRIX"
   ]
  },
  {
   "cell_type": "code",
   "execution_count": null,
   "id": "589cbce4",
   "metadata": {},
   "outputs": [],
   "source": [
    "lr_conf_mat=confusion_matrix(Y_test1,Y_pred_lr_test)\n",
    "print(confusion_matrix(Y_test1,Y_pred_lr_test))\n",
    "\n",
    "#Visualization Confusion Matrix\n",
    "plt.subplots(figsize=(5,5))\n",
    "sns.heatmap(lr_conf_mat,annot=True,linewidths=0.5,linecolor=\"red\",fmt=\".0f\",data=X_test1)\n",
    "plt.xlabel(\"ACUTAL Values\")\n",
    "plt.ylabel(\"PREDICTED Values\")\n",
    "plt.show()"
   ]
  },
  {
   "cell_type": "code",
   "execution_count": null,
   "id": "a3317be8",
   "metadata": {},
   "outputs": [],
   "source": [
    "print(\"## CLASSIFICATION REPORT DT TRAINING MODEL ######\")\n",
    "print(classification_report(Y_train1,Y_pred_lr_train))\n",
    "print(\"## CLASSIFICATION REPORT DT TESTING MODEL  ######\")\n",
    "print(classification_report(Y_test1,Y_pred_lr_test))\n"
   ]
  },
  {
   "cell_type": "markdown",
   "id": "8d1b7ed3",
   "metadata": {},
   "source": []
  },
  {
   "cell_type": "code",
   "execution_count": null,
   "id": "0989ce30",
   "metadata": {},
   "outputs": [],
   "source": []
  },
  {
   "cell_type": "code",
   "execution_count": null,
   "id": "41743b10",
   "metadata": {},
   "outputs": [],
   "source": []
  },
  {
   "cell_type": "code",
   "execution_count": null,
   "id": "a2e2c70e",
   "metadata": {},
   "outputs": [],
   "source": []
  },
  {
   "cell_type": "code",
   "execution_count": null,
   "id": "96cc2e60",
   "metadata": {},
   "outputs": [],
   "source": []
  },
  {
   "cell_type": "markdown",
   "id": "4a58d2ab",
   "metadata": {},
   "source": [
    "# DECISION TREE"
   ]
  },
  {
   "cell_type": "code",
   "execution_count": null,
   "id": "df5442c2",
   "metadata": {},
   "outputs": [],
   "source": [
    "\n"
   ]
  },
  {
   "cell_type": "code",
   "execution_count": null,
   "id": "924035dc",
   "metadata": {},
   "outputs": [],
   "source": [
    "from sklearn.tree import DecisionTreeClassifier\n",
    "dt=DecisionTreeClassifier(criterion=\"entropy\")\n",
    "\n",
    "dt.fit(X_train1,Y_train1)"
   ]
  },
  {
   "cell_type": "code",
   "execution_count": null,
   "id": "0f5b2893",
   "metadata": {},
   "outputs": [],
   "source": [
    "Y_pred_dt_train=dt.predict(X_train1)\n",
    "Y_pred_dt_test=dt.predict(X_test1)"
   ]
  },
  {
   "cell_type": "code",
   "execution_count": null,
   "id": "91fdf7f9",
   "metadata": {},
   "outputs": [],
   "source": [
    "print(\"DECISION TREE CLASSIFIER TRAINING ACCURACY \",accuracy_score(Y_train1,Y_pred_dt_train))\n",
    "print(\"######\"*20)\n",
    "print(\"DECISION TREE CLASSIFIER TESTING ACCURACY \",accuracy_score(Y_test1,Y_pred_dt_test))"
   ]
  },
  {
   "cell_type": "code",
   "execution_count": null,
   "id": "447c30ed",
   "metadata": {},
   "outputs": [],
   "source": [
    "from sklearn.tree import plot_tree\n",
    "plt.figure(figsize=(20,15),dpi=150)\n",
    "plot_tree(dt,filled=True,feature_names=X.columns)\n",
    "plt.show()"
   ]
  },
  {
   "cell_type": "code",
   "execution_count": null,
   "id": "994af8d1",
   "metadata": {},
   "outputs": [],
   "source": [
    "# WE HAVE TO CREATE A USER DEFINED FUNCTION"
   ]
  },
  {
   "cell_type": "code",
   "execution_count": null,
   "id": "9c047262",
   "metadata": {},
   "outputs": [],
   "source": [
    "def report_model(model):\n",
    "    model_preds=model.predict(X_test1)\n",
    "    print(classification_report(Y_test1,model_preds))\n",
    "    print(\"\\n\")\n",
    "    plt.figure(figsize=(12,8),dpi=150)\n",
    "    plot_tree(model,filled=True,feature_names=X.columns)"
   ]
  },
  {
   "cell_type": "code",
   "execution_count": null,
   "id": "e13b7c94",
   "metadata": {},
   "outputs": [],
   "source": [
    "#Hyperparameter in decision Tree"
   ]
  },
  {
   "cell_type": "code",
   "execution_count": null,
   "id": "26a40087",
   "metadata": {},
   "outputs": [],
   "source": [
    "pruned_tree=DecisionTreeClassifier(max_depth=1)\n",
    "pruned_tree.fit(X_train1,Y_train1)"
   ]
  },
  {
   "cell_type": "code",
   "execution_count": null,
   "id": "ad0aed1d",
   "metadata": {},
   "outputs": [],
   "source": [
    "# prunned model decision tree classifier with max branch =3 has created"
   ]
  },
  {
   "cell_type": "code",
   "execution_count": null,
   "id": "65c323ae",
   "metadata": {},
   "outputs": [],
   "source": [
    "report_model(pruned_tree)"
   ]
  },
  {
   "cell_type": "code",
   "execution_count": null,
   "id": "dca938dd",
   "metadata": {},
   "outputs": [],
   "source": [
    "pruned_tree5=DecisionTreeClassifier(max_depth=5)\n",
    "pruned_tree5.fit(X_train1,Y_train1)"
   ]
  },
  {
   "cell_type": "code",
   "execution_count": null,
   "id": "182cf306",
   "metadata": {},
   "outputs": [],
   "source": [
    "# prunned model decision tree classifier with max branch =5 has created"
   ]
  },
  {
   "cell_type": "code",
   "execution_count": null,
   "id": "8066b6f2",
   "metadata": {},
   "outputs": [],
   "source": [
    "report_model(pruned_tree5)"
   ]
  },
  {
   "cell_type": "code",
   "execution_count": null,
   "id": "846433b6",
   "metadata": {},
   "outputs": [],
   "source": []
  },
  {
   "cell_type": "code",
   "execution_count": null,
   "id": "a4671c1d",
   "metadata": {},
   "outputs": [],
   "source": [
    "# confusion matrix\n",
    "dt_conf_mat=confusion_matrix(Y_test1,Y_pred_dt_test)\n",
    "print(confusion_matrix(Y_test1,Y_pred_dt_test))\n",
    "\n",
    "#Visualization Confusion Matrix\n",
    "plt.subplots(figsize=(5,5))\n",
    "sns.heatmap(dt_conf_mat,annot=True,linewidths=0.5,linecolor=\"red\",fmt=\".0f\",data=X_test1)\n",
    "plt.xlabel(\"ACUTAL Values\")\n",
    "plt.ylabel(\"PREDICTED Values\")\n",
    "plt.show()"
   ]
  },
  {
   "cell_type": "code",
   "execution_count": null,
   "id": "3a610303",
   "metadata": {},
   "outputs": [],
   "source": [
    "print(\"## CLASSIFICATION REPORT DT TRAINING MODEL ######\")\n",
    "print(classification_report(Y_train1,Y_pred_dt_train))\n",
    "print(\"## CLASSIFICATION REPORT DT TESTING MODEL  ######\")\n",
    "print(classification_report(Y_test1,Y_pred_dt_test))"
   ]
  },
  {
   "cell_type": "code",
   "execution_count": null,
   "id": "1d16f30f",
   "metadata": {},
   "outputs": [],
   "source": [
    "from sklearn.metrics import roc_auc_score\n",
    "\n",
    "\n",
    "\n",
    "# predict probabilities\n",
    "probability_prediction_positive_dt = dt.predict_proba(X_test1)[:,1]\n",
    "\n",
    "# auc scores\n",
    "auc_score1_dt = roc_auc_score(Y_test1, probability_prediction_positive_dt)\n",
    "\n",
    "\n",
    "from sklearn.metrics import roc_curve\n",
    "\n",
    "# roc curve for models\n",
    "fpr1_dt, tpr1_dt, thresh1_dt = roc_curve(Y_test1, probability_prediction_positive_dt, pos_label=1)\n",
    "\n",
    "\n",
    "\n",
    "\n",
    "print(\"AUC SCORE:\",auc_score1_dt)\n",
    "#print(\"#######\"*5)\n",
    "#print(\"value of FPR\", fpr1)\n",
    "#print(\"#######\"*5)\n",
    "#print(\"Values of TPR\",tpr1)\n",
    "#print(\"#######\"*5)\n",
    "#print(\"values of Threshold\", thresh1)"
   ]
  },
  {
   "cell_type": "code",
   "execution_count": null,
   "id": "57113754",
   "metadata": {},
   "outputs": [],
   "source": [
    "# matplotlib\n",
    "import matplotlib.pyplot as plt\n",
    "plt.style.use('seaborn')\n",
    "\n",
    "# plot roc curves\n",
    "plt.plot(fpr1_dt, tpr1_dt, linestyle='--',color='orange', label='decision tree')\n",
    "\n",
    "# plot no skill roc curve\n",
    "plt.plot([0, 1], [0, 1], linestyle='--', label='No Skill')\n",
    "\n",
    "# title\n",
    "plt.title('ROC curve')\n",
    "\n",
    "# x label\n",
    "plt.xlabel('False Positive Rate')\n",
    "# y label\n",
    "plt.ylabel('True Positive rate')\n",
    "\n",
    "plt.legend(loc='best')\n",
    "\n",
    "plt.savefig('ROC', dpi=300)\n",
    "plt.show()"
   ]
  },
  {
   "cell_type": "markdown",
   "id": "f39c0b47",
   "metadata": {},
   "source": [
    "# FEATURE IMPORTANCE"
   ]
  },
  {
   "cell_type": "code",
   "execution_count": null,
   "id": "6798af81",
   "metadata": {},
   "outputs": [],
   "source": [
    "dt.feature_importances_"
   ]
  },
  {
   "cell_type": "code",
   "execution_count": null,
   "id": "443500a2",
   "metadata": {},
   "outputs": [],
   "source": [
    "pd.DataFrame(index=X.columns,data=dt.feature_importances_,columns=[\"Feature Importance\"])"
   ]
  },
  {
   "cell_type": "code",
   "execution_count": null,
   "id": "fd8e02ad",
   "metadata": {},
   "outputs": [],
   "source": []
  },
  {
   "cell_type": "markdown",
   "id": "2aeaa721",
   "metadata": {},
   "source": [
    "# Bagging model"
   ]
  },
  {
   "cell_type": "code",
   "execution_count": null,
   "id": "4d29ade8",
   "metadata": {},
   "outputs": [],
   "source": [
    "\n",
    "\n",
    "\n",
    "from sklearn.ensemble import BaggingClassifier\n",
    "# as it is a classification problem so we are importing classifier\n",
    "#In case of regression problem  we use to import BaggingRegressor()\n",
    "\n",
    "bagging=BaggingClassifier()\n",
    "bagging.fit(X_train1,Y_train1)"
   ]
  },
  {
   "cell_type": "code",
   "execution_count": null,
   "id": "d4963bf0",
   "metadata": {},
   "outputs": [],
   "source": [
    "Y_pred_BM_train=bagging.predict(X_train1)\n",
    "Y_pred_BM_test=bagging.predict(X_test1)\n",
    "\n"
   ]
  },
  {
   "cell_type": "code",
   "execution_count": null,
   "id": "e7a3d957",
   "metadata": {},
   "outputs": [],
   "source": [
    "from sklearn.metrics import classification_report,confusion_matrix,accuracy_score"
   ]
  },
  {
   "cell_type": "code",
   "execution_count": null,
   "id": "428014d7",
   "metadata": {},
   "outputs": [],
   "source": [
    "print(\"Bagging Model training accuracy\", accuracy_score(Y_train1,Y_pred_BM_train))\n",
    "print(\"######\" *5)\n",
    "print(\"Bagging Model testing accuracy\", accuracy_score(Y_test1,Y_pred_BM_test))"
   ]
  },
  {
   "cell_type": "code",
   "execution_count": null,
   "id": "ffeaefe5",
   "metadata": {},
   "outputs": [],
   "source": [
    "print(\"CLASSIFICATION REPORT ON TRAINING  \\n \" , classification_report(Y_train1,Y_pred_BM_train))\n",
    "print(\"######\"*20)\n",
    "print(\"CLASSIFICATION REPORT ON TEST  \\n \",classification_report(Y_test1,Y_pred_BM_test))"
   ]
  },
  {
   "cell_type": "code",
   "execution_count": null,
   "id": "ab167d77",
   "metadata": {},
   "outputs": [],
   "source": [
    "BM_conf_mat=confusion_matrix(Y_test1,Y_pred_BM_test)\n",
    "print(confusion_matrix(Y_train1,Y_pred_BM_train))\n",
    "print(\"######\"*20)\n",
    "print(confusion_matrix(Y_test1,Y_pred_BM_test))"
   ]
  },
  {
   "cell_type": "code",
   "execution_count": null,
   "id": "5bca179e",
   "metadata": {},
   "outputs": [],
   "source": [
    "plt.subplots(figsize=(5,5))\n",
    "sns.heatmap(BM_conf_mat,annot=True,linewidths=0.5,linecolor=\"red\",fmt=\".0f\",data=X_test1)\n",
    "plt.xlabel(\"ACUTAL Values\")\n",
    "plt.ylabel(\"PREDICTED Values\")\n",
    "plt.show()"
   ]
  },
  {
   "cell_type": "code",
   "execution_count": null,
   "id": "6247da88",
   "metadata": {},
   "outputs": [],
   "source": [
    "print(\"BAGGING METHOD TRAINING ACCURACY\",accuracy_score(Y_train1,Y_pred_BM_train))\n",
    "print(\"######\"*20)\n",
    "print(\"BAGGING METHOD TESTING ACCURACY\",accuracy_score(Y_test1,Y_pred_BM_test))"
   ]
  },
  {
   "cell_type": "code",
   "execution_count": null,
   "id": "d337d9b1",
   "metadata": {},
   "outputs": [],
   "source": []
  },
  {
   "cell_type": "markdown",
   "id": "c459c356",
   "metadata": {},
   "source": [
    "# RANDOM FOREST METHOD ENTROPY"
   ]
  },
  {
   "cell_type": "code",
   "execution_count": null,
   "id": "2a190271",
   "metadata": {},
   "outputs": [],
   "source": [
    "from sklearn.ensemble import RandomForestClassifier\n",
    "rf=RandomForestClassifier(n_estimators=50,criterion=\"entropy\")\n"
   ]
  },
  {
   "cell_type": "code",
   "execution_count": null,
   "id": "4ce33ee7",
   "metadata": {},
   "outputs": [],
   "source": [
    "rf.fit(X_train1,Y_train1)"
   ]
  },
  {
   "cell_type": "markdown",
   "id": "f7d18e7d",
   "metadata": {},
   "source": [
    " "
   ]
  },
  {
   "cell_type": "code",
   "execution_count": null,
   "id": "d53c3bc7",
   "metadata": {},
   "outputs": [],
   "source": [
    "# RANDOM FOREST MODEL BUILDING COMPLETED."
   ]
  },
  {
   "cell_type": "code",
   "execution_count": null,
   "id": "62a230de",
   "metadata": {},
   "outputs": [],
   "source": [
    "Y_pred_rf_train=rf.predict(X_train1)\n",
    "Y_pred_rf_test=rf.predict(X_test1)"
   ]
  },
  {
   "cell_type": "code",
   "execution_count": null,
   "id": "f4998b06",
   "metadata": {},
   "outputs": [],
   "source": [
    "print(\"RANDOM FOREST METHOD ENTROPY TRAINING ACCURACY \",accuracy_score(Y_train1,Y_pred_rf_train))\n",
    "print(\"######\"*20)\n",
    "print(\"RANDOM FOREST METHOD ENTROPY TESTING ACCURACY \",accuracy_score(Y_test1,Y_pred_rf_test))"
   ]
  },
  {
   "cell_type": "code",
   "execution_count": null,
   "id": "1238335e",
   "metadata": {},
   "outputs": [],
   "source": [
    "RF_conf_mat=confusion_matrix(Y_test1,Y_pred_rf_test)\n",
    "print(confusion_matrix(Y_train1,Y_pred_rf_train))\n",
    "print(\"######\"*20)\n",
    "print(confusion_matrix(Y_test1,Y_pred_rf_test))\n",
    "\n",
    "plt.subplots(figsize=(5,5))\n",
    "sns.heatmap(RF_conf_mat,annot=True,linewidths=0.5,linecolor=\"red\",fmt=\".0f\",data=X_test1)\n",
    "plt.xlabel(\"Predicted Values\")\n",
    "plt.ylabel(\"True Values\")\n",
    "plt.show()"
   ]
  },
  {
   "cell_type": "code",
   "execution_count": null,
   "id": "0ec936d4",
   "metadata": {},
   "outputs": [],
   "source": [
    "print(\"## CLASSIFICATION REPORT RANDOM FOREST TRAINING MODEL ######\")\n",
    "print(classification_report(Y_train1,Y_pred_rf_train))\n",
    "print(\"## CLASSIFICATION REPORT RANDOM FOREST TESTING MODEL  ######\")\n",
    "print(classification_report(Y_test1,Y_pred_rf_test))"
   ]
  },
  {
   "cell_type": "code",
   "execution_count": null,
   "id": "42335d0d",
   "metadata": {},
   "outputs": [],
   "source": []
  },
  {
   "cell_type": "code",
   "execution_count": null,
   "id": "b5d20f68",
   "metadata": {},
   "outputs": [],
   "source": [
    "# get Feature importance\n",
    "importance = rf.feature_importances_\n",
    "\n",
    "\n",
    "# summarize feature importance\n",
    "for i,v in enumerate(importance):\n",
    "    print('Feature: %0d, Score: %.5f' % (i,v))\n",
    "    print(importance)"
   ]
  },
  {
   "cell_type": "code",
   "execution_count": null,
   "id": "f4e0d5d8",
   "metadata": {},
   "outputs": [],
   "source": [
    "print('Feature: %0d, Score: %.5f' % (i,v))"
   ]
  },
  {
   "cell_type": "code",
   "execution_count": null,
   "id": "65058087",
   "metadata": {},
   "outputs": [],
   "source": [
    "# almost all features are significance some are more some are less."
   ]
  },
  {
   "cell_type": "code",
   "execution_count": null,
   "id": "0961be26",
   "metadata": {},
   "outputs": [],
   "source": [
    "from matplotlib import pyplot"
   ]
  },
  {
   "cell_type": "code",
   "execution_count": null,
   "id": "96bde027",
   "metadata": {},
   "outputs": [],
   "source": [
    "#plot feature importance\n",
    "#pyplot.bar([x for x in range(len(importance))], importance)\n",
    "pyplot.bar([x for x in range(len(importance))], importance)\n",
    "pyplot.show()"
   ]
  },
  {
   "cell_type": "code",
   "execution_count": null,
   "id": "f76e6167",
   "metadata": {},
   "outputs": [],
   "source": [
    "from sklearn.ensemble import ExtraTreesClassifier\n",
    "model = ExtraTreesClassifier()\n",
    "model.fit(X,Y)\n",
    "print(model.feature_importances_) #use inbuilt class feature_importances of tree based classifiers\n",
    "#plot graph of feature importances for better visualization\n",
    "feat_importances = pd.Series(model.feature_importances_, index=X.columns)\n",
    "feat_importances.nlargest(13).plot(kind='barh')\n",
    "plt.show()"
   ]
  },
  {
   "cell_type": "code",
   "execution_count": null,
   "id": "be344d2e",
   "metadata": {},
   "outputs": [],
   "source": [
    "#The XGBoost library provides a built-in function to plot features ordered by their importance. \n",
    "#The function is called plot_importance ()"
   ]
  },
  {
   "cell_type": "code",
   "execution_count": null,
   "id": "4aee841d",
   "metadata": {},
   "outputs": [],
   "source": [
    "# plot feature importance using built-in function\n",
    "from numpy import loadtxt\n",
    "from xgboost import XGBClassifier\n",
    "from xgboost import plot_importance\n",
    "\n",
    "# fit model no training data\n",
    "\n",
    "model = XGBClassifier(n_estimators=100)\n",
    "model.fit(X, Y)\n",
    "# plot feature importance\n",
    "plot_importance(model,max_num_features=10) # top 10 most important features\n",
    "pyplot.show()"
   ]
  },
  {
   "cell_type": "code",
   "execution_count": null,
   "id": "84b237e3",
   "metadata": {},
   "outputs": [],
   "source": []
  },
  {
   "cell_type": "code",
   "execution_count": null,
   "id": "70184994",
   "metadata": {},
   "outputs": [],
   "source": []
  },
  {
   "cell_type": "markdown",
   "id": "55c8f99e",
   "metadata": {},
   "source": [
    "# RANDOM FOREST WITH CRITERION GINI\n"
   ]
  },
  {
   "cell_type": "code",
   "execution_count": null,
   "id": "3aab435e",
   "metadata": {},
   "outputs": [],
   "source": [
    "rf1=RandomForestClassifier(n_estimators=200,criterion=\"gini\")\n",
    "rf1.fit(X_train1,Y_train1)"
   ]
  },
  {
   "cell_type": "code",
   "execution_count": null,
   "id": "07acd030",
   "metadata": {},
   "outputs": [],
   "source": [
    "Y_pred_rf_ginni_train=rf1.predict(X_train1)\n",
    "Y_pred_rf_ginni_test=rf1.predict(X_test1)"
   ]
  },
  {
   "cell_type": "code",
   "execution_count": null,
   "id": "6bc797c7",
   "metadata": {},
   "outputs": [],
   "source": [
    "print(\"RANDOM FOREST METHOD GINI TRAINING ACCURACY \",accuracy_score(Y_train1,Y_pred_rf_ginni_train))\n",
    "print(\"######\"*20)\n",
    "print(\"RANDOM FOREST METHOD ENTROPY TESTING ACCURACY \",accuracy_score(Y_test1,Y_pred_rf_ginni_test))"
   ]
  },
  {
   "cell_type": "code",
   "execution_count": null,
   "id": "ae03ea03",
   "metadata": {},
   "outputs": [],
   "source": []
  },
  {
   "cell_type": "markdown",
   "id": "51248d8c",
   "metadata": {},
   "source": [
    "# Gaussian Naive Bayes model"
   ]
  },
  {
   "cell_type": "code",
   "execution_count": null,
   "id": "dccf0b6e",
   "metadata": {},
   "outputs": [],
   "source": [
    "# used in Medical diagnosis, Face Recognization,as a classifier, to identify faces and other features, weather prediction..\n",
    "# training the model on training set\n",
    "# probability approached based algorithm.\n",
    "# widely used in text classification. \n",
    "#In real world is for normal industries not much in use in classification becoz we have many other models RF,DT,XG BOOST .\n",
    "\n",
    "from sklearn.naive_bayes import GaussianNB\n",
    "gnb = GaussianNB()\n",
    "gnb.fit(X_train1, Y_train1)\n",
    "Y_pred_gnb_train=gnb.predict(X_train1) \n",
    "# making predictions on the testing set\n",
    "Y_pred_gnb_test = gnb.predict(X_test1)\n",
    " \n",
    "# comparing actual response values (y_test) with predicted response values (y_pred)\n",
    "from sklearn import metrics\n",
    "print(\"Gaussian Naive Bayes model accuracy(in %):\", metrics.accuracy_score(Y_test1, Y_pred_gnb_test)*100)"
   ]
  },
  {
   "cell_type": "code",
   "execution_count": null,
   "id": "a8303476",
   "metadata": {},
   "outputs": [],
   "source": [
    "print(\"GAUSSIAN NAIVE BAYES METHOD TRAINING ACCURACY \",accuracy_score(Y_train1,Y_pred_gnb_train))\n",
    "print(\"######\"*20)\n",
    "print(\"GAUSSIAN NAIVE BAYES METHOD TESTING ACCURACY \",accuracy_score(Y_test1,Y_pred_gnb_test))"
   ]
  },
  {
   "cell_type": "code",
   "execution_count": null,
   "id": "92cfd844",
   "metadata": {},
   "outputs": [],
   "source": []
  },
  {
   "cell_type": "code",
   "execution_count": null,
   "id": "282a9a33",
   "metadata": {},
   "outputs": [],
   "source": []
  },
  {
   "cell_type": "markdown",
   "id": "10b0ea25",
   "metadata": {},
   "source": [
    "# ADABOOST Adaptive Boosting"
   ]
  },
  {
   "cell_type": "code",
   "execution_count": null,
   "id": "305ae92f",
   "metadata": {},
   "outputs": [],
   "source": [
    "from sklearn.ensemble import AdaBoostClassifier\n",
    "from sklearn.tree import DecisionTreeClassifier\n",
    "ab=AdaBoostClassifier(base_estimator=DecisionTreeClassifier(max_depth=1),n_estimators=100)\n",
    "\n",
    "\n",
    "ab.fit(X_train1,Y_train1)"
   ]
  },
  {
   "cell_type": "code",
   "execution_count": null,
   "id": "7ac2e1e5",
   "metadata": {},
   "outputs": [],
   "source": [
    "ab.score(X_train1,Y_train1)"
   ]
  },
  {
   "cell_type": "code",
   "execution_count": null,
   "id": "d2c1c9cc",
   "metadata": {},
   "outputs": [],
   "source": [
    "ab.score(X_test1,Y_test1)"
   ]
  },
  {
   "cell_type": "code",
   "execution_count": null,
   "id": "c056bada",
   "metadata": {},
   "outputs": [],
   "source": [
    "from sklearn.ensemble import RandomForestClassifier\n",
    "ab1=AdaBoostClassifier(base_estimator=RandomForestClassifier(n_estimators=20,max_depth=2),n_estimators=100)"
   ]
  },
  {
   "cell_type": "markdown",
   "id": "3d72287d",
   "metadata": {},
   "source": []
  },
  {
   "cell_type": "code",
   "execution_count": null,
   "id": "5687d6d1",
   "metadata": {},
   "outputs": [],
   "source": [
    "ab1.fit(X_train1,Y_train1)"
   ]
  },
  {
   "cell_type": "code",
   "execution_count": null,
   "id": "97eca46b",
   "metadata": {},
   "outputs": [],
   "source": [
    "ab1.score(X_train1,Y_train1)"
   ]
  },
  {
   "cell_type": "code",
   "execution_count": null,
   "id": "369b305b",
   "metadata": {},
   "outputs": [],
   "source": [
    "ab1.score(X_test1,Y_test1)"
   ]
  },
  {
   "cell_type": "markdown",
   "id": "f935ba7b",
   "metadata": {},
   "source": [
    "# GRADIENT BOOSTING"
   ]
  },
  {
   "cell_type": "code",
   "execution_count": null,
   "id": "526b0866",
   "metadata": {},
   "outputs": [],
   "source": [
    "#GradientBoostingRegressor. A similar algorithm is used for classification known as GradientBoostingClassifier."
   ]
  },
  {
   "cell_type": "code",
   "execution_count": null,
   "id": "beaedde3",
   "metadata": {},
   "outputs": [],
   "source": [
    "from sklearn.ensemble import GradientBoostingClassifier\n",
    "from sklearn.metrics import mean_squared_error as MSE"
   ]
  },
  {
   "cell_type": "code",
   "execution_count": null,
   "id": "cc294690",
   "metadata": {},
   "outputs": [],
   "source": [
    "# Instantiate Gradient Boosting classifier\n",
    "SEED = 2 # Setting SEED for reproducibility\n",
    "gbt = GradientBoostingClassifier(n_estimators = 25, max_depth = 1, random_state = SEED)\n",
    " \n",
    "# Fit to training set\n",
    "gbt.fit(X_train1, Y_train1)\n",
    "\n",
    "# Predict on train set\n",
    "Y_pred_train_gbt = gbt.predict(X_train1)\n",
    "\n",
    "# Predict on test set\n",
    "Y_pred_test_gbt = gbt.predict(X_test1)\n",
    "  \n",
    "# test set RMSE\n",
    "test_rmse = MSE(Y_test1, Y_pred_test_gbt) ** (1 / 2)\n",
    "  \n",
    "# Print rmse\n",
    "print('RMSE test set: {:.2f}'.format(test_rmse))"
   ]
  },
  {
   "cell_type": "code",
   "execution_count": null,
   "id": "3dd0c6a9",
   "metadata": {},
   "outputs": [],
   "source": [
    "gbt.score(X_test1,Y_test1)"
   ]
  },
  {
   "cell_type": "code",
   "execution_count": null,
   "id": "5304293f",
   "metadata": {},
   "outputs": [],
   "source": [
    "gbt.score(X_train1,Y_train1)"
   ]
  },
  {
   "cell_type": "code",
   "execution_count": null,
   "id": "f1502fe8",
   "metadata": {},
   "outputs": [],
   "source": [
    "#LEAST SQUARE LOSS"
   ]
  },
  {
   "cell_type": "code",
   "execution_count": null,
   "id": "32b4ef2e",
   "metadata": {},
   "outputs": [],
   "source": [
    "test_score=np.zeros(30,dtype=np.float64)\n",
    "train_score=np.zeros(30,dtype=np.float64)\n",
    "for i,Y_pred in enumerate(gbt.staged_predict(X_train1)):\n",
    "    train_score[i]=gbt.loss_(Y_train1,Y_pred_train_gbt)\n",
    "for i,Y_pred in enumerate(gbt.staged_predict(X_test1)):\n",
    "    test_score[i]=gbt.loss_(Y_test1,Y_pred_test_gbt)"
   ]
  },
  {
   "cell_type": "code",
   "execution_count": null,
   "id": "0ba16d05",
   "metadata": {},
   "outputs": [],
   "source": [
    "plt.plot(test_score)\n",
    "plt.plot(train_score)\n",
    "plt.xlabel(\"Iterators\")\n",
    "plt.ylabel(\"least square Loss\")"
   ]
  },
  {
   "cell_type": "code",
   "execution_count": null,
   "id": "5b433ff4",
   "metadata": {},
   "outputs": [],
   "source": [
    "def log_loss_prime(Y_test, Y_pred_test_gbt):\n",
    "    return ((1 - Y_test1) / (1 - Y_pred_test_gbt) - Y_test1 / Y_pred_test_gbt) / np.size(Y_test1)"
   ]
  },
  {
   "cell_type": "code",
   "execution_count": null,
   "id": "d49467de",
   "metadata": {},
   "outputs": [],
   "source": [
    "print(log_loss_prime(Y_test1, Y_pred_test_gbt))"
   ]
  },
  {
   "cell_type": "code",
   "execution_count": null,
   "id": "961cfe4e",
   "metadata": {},
   "outputs": [],
   "source": [
    "from sklearn.metrics import log_loss\n",
    "LogLoss = log_loss(Y_test1, Y_pred_test_gbt, eps = 1e-15,\n",
    "normalize = True, sample_weight = None, labels = None)"
   ]
  },
  {
   "cell_type": "code",
   "execution_count": null,
   "id": "6f3daba8",
   "metadata": {},
   "outputs": [],
   "source": [
    "LogLoss"
   ]
  },
  {
   "cell_type": "code",
   "execution_count": null,
   "id": "9bd477aa",
   "metadata": {},
   "outputs": [],
   "source": [
    "#Log Loss is hard to interpret. A Log Loss of 0.69 may be good in a multiclass problem, but NOT GOOD in a binary biased case."
   ]
  },
  {
   "cell_type": "code",
   "execution_count": null,
   "id": "4fd2d66f",
   "metadata": {},
   "outputs": [],
   "source": [
    "from sklearn.metrics import mean_squared_error\n",
    "  \n",
    "MSE = mean_squared_error(Y_test1, Y_pred_test_gbt)"
   ]
  },
  {
   "cell_type": "code",
   "execution_count": null,
   "id": "6781d3e7",
   "metadata": {},
   "outputs": [],
   "source": [
    "MSE"
   ]
  },
  {
   "cell_type": "markdown",
   "id": "eac61f59",
   "metadata": {},
   "source": [
    "# XG BOOST"
   ]
  },
  {
   "cell_type": "code",
   "execution_count": null,
   "id": "4a806ae4",
   "metadata": {},
   "outputs": [],
   "source": [
    "pip install xgboost"
   ]
  },
  {
   "cell_type": "code",
   "execution_count": null,
   "id": "4e8582e0",
   "metadata": {},
   "outputs": [],
   "source": [
    "from xgboost import XGBClassifier"
   ]
  },
  {
   "cell_type": "code",
   "execution_count": null,
   "id": "83980d50",
   "metadata": {},
   "outputs": [],
   "source": [
    "from sklearn.model_selection import cross_val_score\n",
    "scores=cross_val_score(XGBClassifier(objective=\"reg:squarederror\"),X_test1,Y_test1)"
   ]
  },
  {
   "cell_type": "code",
   "execution_count": null,
   "id": "4173fa9a",
   "metadata": {},
   "outputs": [],
   "source": [
    "scores"
   ]
  },
  {
   "cell_type": "code",
   "execution_count": null,
   "id": "ad210368",
   "metadata": {},
   "outputs": [],
   "source": [
    "# rmse\n",
    "rmse_score=(scores)**0.5\n",
    "rmse_score.mean()"
   ]
  },
  {
   "cell_type": "code",
   "execution_count": null,
   "id": "b4c2caab",
   "metadata": {},
   "outputs": [],
   "source": []
  },
  {
   "cell_type": "code",
   "execution_count": null,
   "id": "1c1fa69f",
   "metadata": {},
   "outputs": [],
   "source": []
  },
  {
   "cell_type": "raw",
   "id": "3c07ce69",
   "metadata": {},
   "source": []
  }
 ],
 "metadata": {
  "kernelspec": {
   "display_name": "Python [conda env:base] *",
   "language": "python",
   "name": "conda-base-py"
  },
  "language_info": {
   "codemirror_mode": {
    "name": "ipython",
    "version": 3
   },
   "file_extension": ".py",
   "mimetype": "text/x-python",
   "name": "python",
   "nbconvert_exporter": "python",
   "pygments_lexer": "ipython3",
   "version": "3.12.7"
  }
 },
 "nbformat": 4,
 "nbformat_minor": 5
}
